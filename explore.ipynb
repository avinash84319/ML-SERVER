{
 "cells": [
  {
   "cell_type": "code",
   "execution_count": 1,
   "metadata": {},
   "outputs": [],
   "source": [
    "# all imports\n",
    "import pickle\n",
    "import tensorflow as tf\n",
    "from tensorflow.keras.preprocessing.text import Tokenizer\n",
    "from tensorflow.keras.preprocessing.sequence import pad_sequences"
   ]
  },
  {
   "cell_type": "code",
   "execution_count": 39,
   "metadata": {},
   "outputs": [],
   "source": [
    "new_queries = [\"find a medical shop nearby\", \"find a doctor in bangalore\"]"
   ]
  },
  {
   "cell_type": "code",
   "execution_count": 25,
   "metadata": {},
   "outputs": [],
   "source": [
    "def get_action(new_queries):\n",
    "\n",
    "    # load the model\n",
    "    model = tf.keras.models.load_model('./Models/action.keras')\n",
    "\n",
    "    # load the tokenizer\n",
    "    with open('./Tokenizers/action_tokenizer.pkl', 'rb') as handle:\n",
    "        tokenizer = pickle.load(handle)\n",
    "\n",
    "    # load the label encoder\n",
    "    with open('./Label_Encoders/action_label_encoder.pkl', 'rb') as handle:\n",
    "        label_encoder = pickle.load(handle)\n",
    "\n",
    "    new_sequences = tokenizer.texts_to_sequences(new_queries)\n",
    "    new_padded_sequences = pad_sequences(new_sequences, maxlen=16)       # maxlen is the max length of the sequence but make it also automatic find a way\n",
    "    predictions = model.predict(new_padded_sequences)\n",
    "    predicted_classes = [label_encoder.classes_[tf.argmax(prediction).numpy()] for prediction in predictions]\n",
    "\n",
    "    return predicted_classes"
   ]
  },
  {
   "cell_type": "code",
   "execution_count": 26,
   "metadata": {},
   "outputs": [],
   "source": [
    "def get_location(new_queries):\n",
    "\n",
    "    # load the model\n",
    "    model = tf.keras.models.load_model('./Models/location.keras')\n",
    "\n",
    "    # load the tokenizer\n",
    "    with open('./Tokenizers/location_tokenizer.pickle', 'rb') as handle:\n",
    "        tokenizer = pickle.load(handle)\n",
    "\n",
    "    # load the label encoder\n",
    "    with open('./Label_Encoders/location_label_encoder.pickle', 'rb') as handle:\n",
    "        label_encoder = pickle.load(handle)\n",
    "\n",
    "    new_sequences = tokenizer.texts_to_sequences(new_queries)\n",
    "    new_padded_sequences = pad_sequences(new_sequences, maxlen=26)       # maxlen is the max length of the sequence but make it also automatic find a way\n",
    "    predictions = model.predict(new_padded_sequences)\n",
    "    predicted_classes = [label_encoder.classes_[tf.argmax(prediction).numpy()] for prediction in predictions]\n",
    "\n",
    "    return predicted_classes"
   ]
  },
  {
   "cell_type": "code",
   "execution_count": 30,
   "metadata": {},
   "outputs": [],
   "source": [
    "def get_when(new_queries):\n",
    "\n",
    "    # load the model\n",
    "    model = tf.keras.models.load_model('./Models/when.keras')\n",
    "\n",
    "    # load the tokenizer\n",
    "    with open('./Tokenizers/when_tokenizer.pickle', 'rb') as handle:\n",
    "        tokenizer = pickle.load(handle)\n",
    "\n",
    "    # load the label encoder\n",
    "    with open('./Label_Encoders/when_label_encoder.pickle', 'rb') as handle:\n",
    "        label_encoder = pickle.load(handle)\n",
    "\n",
    "    new_sequences = tokenizer.texts_to_sequences(new_queries)\n",
    "    new_padded_sequences = pad_sequences(new_sequences, maxlen=32)       # maxlen is the max length of the sequence but make it also automatic find a way\n",
    "    predictions = model.predict(new_padded_sequences)\n",
    "    predicted_classes = [label_encoder.classes_[tf.argmax(prediction).numpy()] for prediction in predictions]\n",
    "\n",
    "    return predicted_classes"
   ]
  },
  {
   "cell_type": "code",
   "execution_count": 35,
   "metadata": {},
   "outputs": [],
   "source": [
    "def get_disease(new_queries):\n",
    "\n",
    "    # load the model\n",
    "    model = tf.keras.models.load_model('./Models/disease.keras')\n",
    "\n",
    "    # load the tokenizer\n",
    "    with open('./Tokenizers/disease_tokenizer.pickle', 'rb') as handle:\n",
    "        tokenizer = pickle.load(handle)\n",
    "\n",
    "    # load the label encoder\n",
    "    with open('./Label_Encoders/disease_label_encoder.pickle', 'rb') as handle:\n",
    "        label_encoder = pickle.load(handle)\n",
    "\n",
    "    new_sequences = tokenizer.texts_to_sequences(new_queries)\n",
    "    new_padded_sequences = pad_sequences(new_sequences, maxlen=55)       # maxlen is the max length of the sequence but make it also automatic find a way\n",
    "    predictions = model.predict(new_padded_sequences)\n",
    "    predicted_classes = [label_encoder.classes_[tf.argmax(prediction).numpy()] for prediction in predictions]\n",
    "\n",
    "    return predicted_classes"
   ]
  },
  {
   "cell_type": "code",
   "execution_count": 42,
   "metadata": {},
   "outputs": [
    {
     "name": "stdout",
     "output_type": "stream",
     "text": [
      "1/1 [==============================] - 0s 278ms/step\n",
      "1/1 [==============================] - 0s 280ms/step\n",
      "1/1 [==============================] - 0s 281ms/step\n",
      "1/1 [==============================] - 0s 288ms/step\n",
      "Action Results: ['find_medicalshop', 'find_doctor']\n",
      "Location Results: ['current_loc', 'Bangalore']\n",
      "When Results: ['no_time', 'no_time']\n",
      "Disease Results: ['Common Depression', 'Common Depression']\n"
     ]
    }
   ],
   "source": [
    "results_action = get_action(new_queries)\n",
    "results_location = get_location(new_queries)\n",
    "results_when = get_when(new_queries)\n",
    "results_disease = get_disease(new_queries)\n",
    "\n",
    "print(\"Action Results:\", results_action)\n",
    "print(\"Location Results:\", results_location)\n",
    "print(\"When Results:\", results_when)\n",
    "print(\"Disease Results:\", results_disease)"
   ]
  },
  {
   "cell_type": "code",
   "execution_count": null,
   "metadata": {},
   "outputs": [],
   "source": []
  }
 ],
 "metadata": {
  "kernelspec": {
   "display_name": "Python 3",
   "language": "python",
   "name": "python3"
  },
  "language_info": {
   "codemirror_mode": {
    "name": "ipython",
    "version": 3
   },
   "file_extension": ".py",
   "mimetype": "text/x-python",
   "name": "python",
   "nbconvert_exporter": "python",
   "pygments_lexer": "ipython3",
   "version": "3.11.3"
  }
 },
 "nbformat": 4,
 "nbformat_minor": 2
}
